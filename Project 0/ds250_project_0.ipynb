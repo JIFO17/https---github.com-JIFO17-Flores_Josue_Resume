{
  "cells": [
    {
      "cell_type": "raw",
      "id": "1b567150",
      "metadata": {},
      "source": [
        "---\n",
        "title: \"Client Report - Project 0\"\n",
        "subtitle: \"Course DS 250\"\n",
        "author: \"Josue Flores\"\n",
        "format:\n",
        "  html:\n",
        "    self-contained: true\n",
        "    page-layout: full\n",
        "    title-block-banner: true\n",
        "    toc: true\n",
        "    toc-depth: 3\n",
        "    toc-location: body\n",
        "    number-sections: false\n",
        "    html-math-method: katex\n",
        "    code-fold: true\n",
        "    code-summary: \"Show the code\"\n",
        "    code-overflow: wrap\n",
        "    code-copy: hover\n",
        "    code-tools:\n",
        "        source: false\n",
        "        toggle: true\n",
        "        caption: See code\n",
        "    \n",
        "---"
      ]
    },
    {
      "cell_type": "code",
      "execution_count": 2,
      "id": "libraries",
      "metadata": {},
      "outputs": [],
      "source": [
        "#| label: libraries\n",
        "#| include: false\n",
        "#%%\n",
        "import pandas as pd\n",
        "import altair as alt\n",
        "import numpy as np\n",
        "#%%\n",
        "from IPython.display import Markdown\n",
        "from IPython.display import display\n",
        "from tabulate import tabulate\n"
      ]
    },
    {
      "cell_type": "markdown",
      "id": "fc6a832d",
      "metadata": {},
      "source": [
        "## Elevator pitch\n",
        "\n",
        "The objective is to have my environment working\n"
      ]
    },
    {
      "cell_type": "code",
      "execution_count": 3,
      "id": "project-data",
      "metadata": {},
      "outputs": [],
      "source": [
        "alt.data_transformers.enable('json')\n",
        "#> DataTransformerRegistry.enable('json')\n",
        "\n",
        "url = \"https://github.com/byuidatascience/data4python4ds/raw/master/data-raw/mpg/mpg.csv\"\n",
        "mpg = pd.read_csv(url)"
      ]
    },
    {
      "cell_type": "markdown",
      "id": "bb7b9a9c",
      "metadata": {},
      "source": [
        "\n",
        "## GRAND QUESTION 1\n",
        "\n",
        "__Having environment working__\n",
        "\n",
        "Sending this file rendered to HTML will proof that.\n"
      ]
    },
    {
      "cell_type": "markdown",
      "id": "096d9d83",
      "metadata": {},
      "source": [
        "## GRAND QUESTION 2\n",
        "\n",
        "__In VS Code, write a python script to create the example Altair chart from section 3.2.2 of the textbook__\n",
        "\n",
        "Review chart below\n",
        "\n"
      ]
    },
    {
      "cell_type": "code",
      "execution_count": 4,
      "id": "32eafe66",
      "metadata": {},
      "outputs": [
        {
          "data": {
            "text/plain": [
              "\" chart2 = (alt.Chart(mpg)\\n  .encode(\\n    x='cyl', \\n    y='hwy')\\n  .mark_circle()\\n)\\n\\nchart2 \""
            ]
          },
          "execution_count": 4,
          "metadata": {},
          "output_type": "execute_result"
        }
      ],
      "source": [
        "\n",
        "\n",
        "chart = (alt.Chart(mpg)\n",
        "  .encode(\n",
        "    x='displ', \n",
        "    y='hwy')\n",
        "  .mark_circle()\n",
        ")\n",
        "\n",
        "\n",
        "\n",
        "# %%\n",
        "\n",
        "\"\"\" chart2 = (alt.Chart(mpg)\n",
        "  .encode(\n",
        "    x='cyl', \n",
        "    y='hwy')\n",
        "  .mark_circle()\n",
        ")\n",
        "\n",
        "chart2 \"\"\"\n"
      ]
    },
    {
      "cell_type": "code",
      "execution_count": 5,
      "id": "8072cfd6",
      "metadata": {},
      "outputs": [
        {
          "name": "stderr",
          "output_type": "stream",
          "text": [
            "c:\\Program Files\\Python310\\lib\\site-packages\\altair\\utils\\core.py:317: FutureWarning: iteritems is deprecated and will be removed in a future version. Use .items instead.\n",
            "  for col_name, dtype in df.dtypes.iteritems():\n"
          ]
        },
        {
          "data": {
            "text/html": [
              "\n",
              "<div id=\"altair-viz-b10ef440ab17473cac3b8bfbe7516ddb\"></div>\n",
              "<script type=\"text/javascript\">\n",
              "  var VEGA_DEBUG = (typeof VEGA_DEBUG == \"undefined\") ? {} : VEGA_DEBUG;\n",
              "  (function(spec, embedOpt){\n",
              "    let outputDiv = document.currentScript.previousElementSibling;\n",
              "    if (outputDiv.id !== \"altair-viz-b10ef440ab17473cac3b8bfbe7516ddb\") {\n",
              "      outputDiv = document.getElementById(\"altair-viz-b10ef440ab17473cac3b8bfbe7516ddb\");\n",
              "    }\n",
              "    const paths = {\n",
              "      \"vega\": \"https://cdn.jsdelivr.net/npm//vega@5?noext\",\n",
              "      \"vega-lib\": \"https://cdn.jsdelivr.net/npm//vega-lib?noext\",\n",
              "      \"vega-lite\": \"https://cdn.jsdelivr.net/npm//vega-lite@4.17.0?noext\",\n",
              "      \"vega-embed\": \"https://cdn.jsdelivr.net/npm//vega-embed@6?noext\",\n",
              "    };\n",
              "\n",
              "    function maybeLoadScript(lib, version) {\n",
              "      var key = `${lib.replace(\"-\", \"\")}_version`;\n",
              "      return (VEGA_DEBUG[key] == version) ?\n",
              "        Promise.resolve(paths[lib]) :\n",
              "        new Promise(function(resolve, reject) {\n",
              "          var s = document.createElement('script');\n",
              "          document.getElementsByTagName(\"head\")[0].appendChild(s);\n",
              "          s.async = true;\n",
              "          s.onload = () => {\n",
              "            VEGA_DEBUG[key] = version;\n",
              "            return resolve(paths[lib]);\n",
              "          };\n",
              "          s.onerror = () => reject(`Error loading script: ${paths[lib]}`);\n",
              "          s.src = paths[lib];\n",
              "        });\n",
              "    }\n",
              "\n",
              "    function showError(err) {\n",
              "      outputDiv.innerHTML = `<div class=\"error\" style=\"color:red;\">${err}</div>`;\n",
              "      throw err;\n",
              "    }\n",
              "\n",
              "    function displayChart(vegaEmbed) {\n",
              "      vegaEmbed(outputDiv, spec, embedOpt)\n",
              "        .catch(err => showError(`Javascript Error: ${err.message}<br>This usually means there's a typo in your chart specification. See the javascript console for the full traceback.`));\n",
              "    }\n",
              "\n",
              "    if(typeof define === \"function\" && define.amd) {\n",
              "      requirejs.config({paths});\n",
              "      require([\"vega-embed\"], displayChart, err => showError(`Error loading script: ${err.message}`));\n",
              "    } else {\n",
              "      maybeLoadScript(\"vega\", \"5\")\n",
              "        .then(() => maybeLoadScript(\"vega-lite\", \"4.17.0\"))\n",
              "        .then(() => maybeLoadScript(\"vega-embed\", \"6\"))\n",
              "        .catch(showError)\n",
              "        .then(() => displayChart(vegaEmbed));\n",
              "    }\n",
              "  })({\"config\": {\"view\": {\"continuousWidth\": 400, \"continuousHeight\": 300}}, \"data\": {\"url\": \"altair-data-bc7fc20d2fb9a94416e89f69941e6a24.json\", \"format\": {\"type\": \"json\"}}, \"mark\": \"circle\", \"encoding\": {\"x\": {\"field\": \"displ\", \"type\": \"quantitative\"}, \"y\": {\"field\": \"hwy\", \"type\": \"quantitative\"}}, \"$schema\": \"https://vega.github.io/schema/vega-lite/v4.17.0.json\"}, {\"mode\": \"vega-lite\"});\n",
              "</script>"
            ],
            "text/plain": [
              "alt.Chart(...)"
            ]
          },
          "execution_count": 5,
          "metadata": {},
          "output_type": "execute_result"
        }
      ],
      "source": [
        "chart"
      ]
    },
    {
      "cell_type": "markdown",
      "id": "f96cc6a7",
      "metadata": {},
      "source": [
        "_include figures in chunks and discuss your findings in the figure._\n"
      ]
    },
    {
      "cell_type": "markdown",
      "id": "915ec91c",
      "metadata": {},
      "source": [
        "## GRAND QUESTION 3\n",
        "\n",
        "__Your final report should also include the markdown table created from the following __\n",
        "\n",
        "Table shown below\n"
      ]
    },
    {
      "cell_type": "code",
      "execution_count": 10,
      "id": "0e5bd4c4",
      "metadata": {},
      "outputs": [
        {
          "name": "stdout",
          "output_type": "stream",
          "text": [
            "| manufacturer   | model      |   year |   hwy |\n",
            "|:---------------|:-----------|-------:|------:|\n",
            "| audi           | a4         |   1999 |    29 |\n",
            "| audi           | a4         |   1999 |    29 |\n",
            "| audi           | a4         |   2008 |    31 |\n",
            "| audi           | a4         |   2008 |    30 |\n",
            "| audi           | a4         |   1999 |    26 |\n",
            "| audi           | a4         |   1999 |    26 |\n",
            "| audi           | a4         |   2008 |    27 |\n",
            "| audi           | a4 quattro |   1999 |    26 |\n",
            "| audi           | a4 quattro |   1999 |    25 |\n",
            "| audi           | a4 quattro |   2008 |    28 |\n"
          ]
        }
      ],
      "source": [
        "\n",
        "print(mpg\n",
        "  .head(10)\n",
        "  .filter([\"manufacturer\", \"model\",\"year\", \"hwy\"])\n",
        "  .to_markdown(index=False))\n"
      ]
    }
  ],
  "metadata": {
    "kernelspec": {
      "display_name": "Python 3.10.8 64-bit",
      "language": "python",
      "name": "python3"
    },
    "language_info": {
      "codemirror_mode": {
        "name": "ipython",
        "version": 3
      },
      "file_extension": ".py",
      "mimetype": "text/x-python",
      "name": "python",
      "nbconvert_exporter": "python",
      "pygments_lexer": "ipython3",
      "version": "3.10.8"
    },
    "vscode": {
      "interpreter": {
        "hash": "26de051ba29f2982a8de78e945f0abaf191376122a1563185a90213a26c5da77"
      }
    }
  },
  "nbformat": 4,
  "nbformat_minor": 5
}
