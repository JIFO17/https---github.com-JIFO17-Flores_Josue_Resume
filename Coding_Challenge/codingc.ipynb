{
  "cells": [
    {
      "cell_type": "raw",
      "id": "ef323ff3",
      "metadata": {},
      "source": [
        "---\n",
        "title: \"Practice Coding Challenge\"\n",
        "subtitle: \"Course DS 250\"\n",
        "author: \"---Josue\"\n",
        "format:\n",
        "  html:\n",
        "    self-contained: true\n",
        "    page-layout: full\n",
        "    title-block-banner: true\n",
        "    toc: true\n",
        "    toc-depth: 3\n",
        "    toc-location: body\n",
        "    number-sections: false\n",
        "    html-math-method: katex\n",
        "    code-fold: true\n",
        "    code-summary: \"Show the code\"\n",
        "    code-overflow: wrap\n",
        "    code-copy: hover\n",
        "    code-tools:\n",
        "        source: false\n",
        "        toggle: true\n",
        "        caption: See code\n",
        "---"
      ]
    },
    {
      "cell_type": "markdown",
      "id": "cab698ae",
      "metadata": {},
      "source": [
        "​\n",
        "## Practice Coding Challenge\n",
        "​\n",
        "### Name: _Josue Flores_\n",
        "​\n",
        "### Instructions\n",
        "​\n",
        "_In the Final Coding Challenge I will ask you to complete problems about as challenging as what is shown below.  Plus, you will need to fit a machine learning model with data I provide._\n",
        "​\n",
        "_Remember, you will only have 60 minutes to work on the challenge! You will not be able to complete every question perfectly, but you should spend at least a little time on each question._\n",
        "​\n",
        "_Paste your answers and code inside this `.qmd` file._\n",
        "​\n",
        "​\n",
        "### Practice Challenges\n",
        "​\n",
        "Start by loading these packages and data:\n",
        "​"
      ]
    },
    {
      "cell_type": "code",
      "execution_count": 1,
      "id": "5df3ff2a",
      "metadata": {},
      "outputs": [],
      "source": [
        "import pandas as pd\n",
        "import altair as alt\n",
        "import numpy as np\n",
        "\n",
        "dat = pd.read_csv('https://github.com/byuidatascience/data4missing/raw/master/data-raw/mtcars_missing/mtcars_missing.csv')\n"
      ]
    },
    {
      "cell_type": "markdown",
      "id": "62cd0c45",
      "metadata": {},
      "source": [
        "​\n",
        "<br>\n",
        "​\n",
        "**Question 1:** Try recreating the chart below using the [mtcars missing](https://github.com/byuidatascience/data4missing/raw/master/data-raw/mtcars_missing/mtcars_missing.csv) data that you've already loaded.\n",
        "​\n",
        "- Note that `hp` has missing values, and you will have to replace them with the mean.\n",
        "- Please drop all cars with a missing name.\n",
        "​\n",
        "![](practice_mtcars.png)\n",
        "​\n",
        "**Question 1 Answer:**\n",
        "​\n",
        "_Show your chart here._\n",
        "​\n",
        "**Question 1 Code:**\n",
        "​"
      ]
    },
    {
      "cell_type": "code",
      "execution_count": 2,
      "id": "07882912",
      "metadata": {},
      "outputs": [],
      "source": [
        "dcar = pd.DataFrame(dat)\n"
      ]
    },
    {
      "cell_type": "code",
      "execution_count": 15,
      "id": "1572e716",
      "metadata": {},
      "outputs": [],
      "source": [
        "df2 = dcar[\"hp\"].mean()\n"
      ]
    },
    {
      "cell_type": "code",
      "execution_count": 18,
      "id": "a1b338de",
      "metadata": {},
      "outputs": [],
      "source": [
        "\n",
        "#dcar[\"hp\"].replace(118.2, np.nan, inplace=True)\n",
        "\n",
        "dcar['hp'] = dcar['hp'].fillna(dcar['hp'].mean())"
      ]
    },
    {
      "cell_type": "code",
      "execution_count": 19,
      "id": "34f7f9c3",
      "metadata": {},
      "outputs": [],
      "source": [
        "df3 = dcar[dcar['car'].notna()]"
      ]
    },
    {
      "cell_type": "code",
      "execution_count": 103,
      "id": "d5284dd6",
      "metadata": {},
      "outputs": [
        {
          "name": "stderr",
          "output_type": "stream",
          "text": [
            "c:\\Program Files\\Python310\\lib\\site-packages\\altair\\utils\\core.py:317: FutureWarning: iteritems is deprecated and will be removed in a future version. Use .items instead.\n",
            "  for col_name, dtype in df.dtypes.iteritems():\n"
          ]
        },
        {
          "data": {
            "text/html": [
              "\n",
              "<div id=\"altair-viz-a6b0baa346b544418a1d9b86cfd20451\"></div>\n",
              "<script type=\"text/javascript\">\n",
              "  var VEGA_DEBUG = (typeof VEGA_DEBUG == \"undefined\") ? {} : VEGA_DEBUG;\n",
              "  (function(spec, embedOpt){\n",
              "    let outputDiv = document.currentScript.previousElementSibling;\n",
              "    if (outputDiv.id !== \"altair-viz-a6b0baa346b544418a1d9b86cfd20451\") {\n",
              "      outputDiv = document.getElementById(\"altair-viz-a6b0baa346b544418a1d9b86cfd20451\");\n",
              "    }\n",
              "    const paths = {\n",
              "      \"vega\": \"https://cdn.jsdelivr.net/npm//vega@5?noext\",\n",
              "      \"vega-lib\": \"https://cdn.jsdelivr.net/npm//vega-lib?noext\",\n",
              "      \"vega-lite\": \"https://cdn.jsdelivr.net/npm//vega-lite@4.17.0?noext\",\n",
              "      \"vega-embed\": \"https://cdn.jsdelivr.net/npm//vega-embed@6?noext\",\n",
              "    };\n",
              "\n",
              "    function maybeLoadScript(lib, version) {\n",
              "      var key = `${lib.replace(\"-\", \"\")}_version`;\n",
              "      return (VEGA_DEBUG[key] == version) ?\n",
              "        Promise.resolve(paths[lib]) :\n",
              "        new Promise(function(resolve, reject) {\n",
              "          var s = document.createElement('script');\n",
              "          document.getElementsByTagName(\"head\")[0].appendChild(s);\n",
              "          s.async = true;\n",
              "          s.onload = () => {\n",
              "            VEGA_DEBUG[key] = version;\n",
              "            return resolve(paths[lib]);\n",
              "          };\n",
              "          s.onerror = () => reject(`Error loading script: ${paths[lib]}`);\n",
              "          s.src = paths[lib];\n",
              "        });\n",
              "    }\n",
              "\n",
              "    function showError(err) {\n",
              "      outputDiv.innerHTML = `<div class=\"error\" style=\"color:red;\">${err}</div>`;\n",
              "      throw err;\n",
              "    }\n",
              "\n",
              "    function displayChart(vegaEmbed) {\n",
              "      vegaEmbed(outputDiv, spec, embedOpt)\n",
              "        .catch(err => showError(`Javascript Error: ${err.message}<br>This usually means there's a typo in your chart specification. See the javascript console for the full traceback.`));\n",
              "    }\n",
              "\n",
              "    if(typeof define === \"function\" && define.amd) {\n",
              "      requirejs.config({paths});\n",
              "      require([\"vega-embed\"], displayChart, err => showError(`Error loading script: ${err.message}`));\n",
              "    } else {\n",
              "      maybeLoadScript(\"vega\", \"5\")\n",
              "        .then(() => maybeLoadScript(\"vega-lite\", \"4.17.0\"))\n",
              "        .then(() => maybeLoadScript(\"vega-embed\", \"6\"))\n",
              "        .catch(showError)\n",
              "        .then(() => displayChart(vegaEmbed));\n",
              "    }\n",
              "  })({\"config\": {\"view\": {\"continuousWidth\": 400, \"continuousHeight\": 300}, \"mark\": {\"color\": \"red\", \"opacity\": 0.5}}, \"data\": {\"name\": \"data-0d4430d7a278fe5533180f27245803ad\"}, \"mark\": \"point\", \"encoding\": {\"x\": {\"field\": \"hp\", \"type\": \"quantitative\"}, \"y\": {\"field\": \"mpg\", \"type\": \"quantitative\"}}, \"title\": \"This is awesome.\", \"$schema\": \"https://vega.github.io/schema/vega-lite/v4.17.0.json\", \"datasets\": {\"data-0d4430d7a278fe5533180f27245803ad\": [{\"car\": \"Mazda RX4\", \"mpg\": 21.0, \"cyl\": 6, \"disp\": 160.0, \"hp\": 110.0, \"drat\": 3.9, \"wt\": 2.62, \"qsec\": 16.46, \"vs\": 0.0, \"am\": 1, \"gear\": 4, \"carb\": 4}, {\"car\": \"Mazda RX4 Wag\", \"mpg\": 21.0, \"cyl\": 6, \"disp\": 160.0, \"hp\": 110.0, \"drat\": 3.9, \"wt\": 2.875, \"qsec\": 17.02, \"vs\": null, \"am\": 1, \"gear\": 4, \"carb\": 4}, {\"car\": \"Datsun 710\", \"mpg\": 22.8, \"cyl\": 4, \"disp\": 108.0, \"hp\": 93.0, \"drat\": 3.85, \"wt\": 2.32, \"qsec\": 18.61, \"vs\": 1.0, \"am\": 1, \"gear\": 999, \"carb\": 1}, {\"car\": \"Hornet 4 Drive\", \"mpg\": 21.4, \"cyl\": 6, \"disp\": 258.0, \"hp\": 110.0, \"drat\": 3.08, \"wt\": null, \"qsec\": 19.44, \"vs\": 1.0, \"am\": 0, \"gear\": 3, \"carb\": 1}, {\"car\": \"Hornet Sportabout\", \"mpg\": 18.7, \"cyl\": 8, \"disp\": 360.0, \"hp\": 175.0, \"drat\": 3.15, \"wt\": 3.44, \"qsec\": 17.02, \"vs\": 0.0, \"am\": 0, \"gear\": 3, \"carb\": 2}, {\"car\": \"Valiant\", \"mpg\": 18.1, \"cyl\": 6, \"disp\": 225.0, \"hp\": 105.0, \"drat\": 2.76, \"wt\": null, \"qsec\": 20.22, \"vs\": 1.0, \"am\": 0, \"gear\": 3, \"carb\": 1}, {\"car\": \"Merc 230\", \"mpg\": 22.8, \"cyl\": 4, \"disp\": 140.8, \"hp\": 95.0, \"drat\": 3.92, \"wt\": 3.15, \"qsec\": 22.9, \"vs\": 1.0, \"am\": 0, \"gear\": 4, \"carb\": 2}, {\"car\": \"Merc 280\", \"mpg\": 19.2, \"cyl\": 6, \"disp\": 167.6, \"hp\": 123.0, \"drat\": 3.92, \"wt\": null, \"qsec\": 18.3, \"vs\": 1.0, \"am\": 0, \"gear\": 4, \"carb\": 4}, {\"car\": \"Merc 280C\", \"mpg\": 17.8, \"cyl\": 6, \"disp\": 167.6, \"hp\": 123.0, \"drat\": 3.92, \"wt\": 3.44, \"qsec\": 18.9, \"vs\": null, \"am\": 0, \"gear\": 4, \"carb\": 4}, {\"car\": \"Merc 450SE\", \"mpg\": 16.4, \"cyl\": 8, \"disp\": 275.8, \"hp\": 180.0, \"drat\": 3.07, \"wt\": 4.07, \"qsec\": 17.4, \"vs\": 0.0, \"am\": 0, \"gear\": 3, \"carb\": 3}, {\"car\": \"Merc 450SL\", \"mpg\": 17.3, \"cyl\": 8, \"disp\": 275.8, \"hp\": 180.0, \"drat\": 3.07, \"wt\": null, \"qsec\": 17.6, \"vs\": 0.0, \"am\": 0, \"gear\": 3, \"carb\": 3}, {\"car\": \"Merc 450SLC\", \"mpg\": 15.2, \"cyl\": 8, \"disp\": 275.8, \"hp\": 180.0, \"drat\": 3.07, \"wt\": null, \"qsec\": 18.0, \"vs\": 0.0, \"am\": 0, \"gear\": 3, \"carb\": 3}, {\"car\": \"Cadillac Fleetwood\", \"mpg\": 10.4, \"cyl\": 8, \"disp\": 472.0, \"hp\": 118.2, \"drat\": 2.93, \"wt\": 5.25, \"qsec\": 17.98, \"vs\": null, \"am\": 0, \"gear\": 3, \"carb\": 4}, {\"car\": \"Lincoln Continental\", \"mpg\": 10.4, \"cyl\": 8, \"disp\": 460.0, \"hp\": 118.2, \"drat\": 3.0, \"wt\": null, \"qsec\": 17.82, \"vs\": 0.0, \"am\": 0, \"gear\": 3, \"carb\": 4}, {\"car\": \"Chrysler Imperial\", \"mpg\": 14.7, \"cyl\": 8, \"disp\": 440.0, \"hp\": 118.2, \"drat\": 3.23, \"wt\": null, \"qsec\": 17.42, \"vs\": 0.0, \"am\": 0, \"gear\": 3, \"carb\": 4}, {\"car\": \"Fiat 128\", \"mpg\": 32.4, \"cyl\": 4, \"disp\": 78.7, \"hp\": 66.0, \"drat\": 4.08, \"wt\": 2.2, \"qsec\": 19.47, \"vs\": 1.0, \"am\": 1, \"gear\": 999, \"carb\": 1}, {\"car\": \"Toyota Corolla\", \"mpg\": 33.9, \"cyl\": 4, \"disp\": 71.1, \"hp\": 65.0, \"drat\": 4.22, \"wt\": 1.835, \"qsec\": 19.9, \"vs\": 1.0, \"am\": 1, \"gear\": 999, \"carb\": 1}, {\"car\": \"Toyota Corona\", \"mpg\": 21.5, \"cyl\": 4, \"disp\": 120.1, \"hp\": 97.0, \"drat\": 3.7, \"wt\": null, \"qsec\": 20.01, \"vs\": 1.0, \"am\": 0, \"gear\": 3, \"carb\": 1}, {\"car\": \"Dodge Challenger\", \"mpg\": 15.5, \"cyl\": 8, \"disp\": 318.0, \"hp\": 150.0, \"drat\": 2.76, \"wt\": 3.52, \"qsec\": 16.87, \"vs\": 0.0, \"am\": 0, \"gear\": 3, \"carb\": 2}, {\"car\": \"Camaro Z28\", \"mpg\": 13.3, \"cyl\": 8, \"disp\": 350.0, \"hp\": 118.2, \"drat\": 3.73, \"wt\": null, \"qsec\": 15.41, \"vs\": 0.0, \"am\": 0, \"gear\": 3, \"carb\": 4}, {\"car\": \"Pontiac Firebird\", \"mpg\": 19.2, \"cyl\": 8, \"disp\": 400.0, \"hp\": 175.0, \"drat\": 3.08, \"wt\": 3.845, \"qsec\": 17.05, \"vs\": null, \"am\": 0, \"gear\": 3, \"carb\": 2}, {\"car\": \"Fiat X1-9\", \"mpg\": 27.3, \"cyl\": 4, \"disp\": 79.0, \"hp\": 66.0, \"drat\": 4.08, \"wt\": null, \"qsec\": 18.9, \"vs\": 1.0, \"am\": 1, \"gear\": 999, \"carb\": 1}, {\"car\": \"Porsche 914-2\", \"mpg\": 26.0, \"cyl\": 4, \"disp\": 120.3, \"hp\": 91.0, \"drat\": 4.43, \"wt\": 2.14, \"qsec\": 16.7, \"vs\": 0.0, \"am\": 1, \"gear\": 999, \"carb\": 2}, {\"car\": \"Lotus Europa\", \"mpg\": 30.4, \"cyl\": 4, \"disp\": 95.1, \"hp\": 113.0, \"drat\": 3.77, \"wt\": null, \"qsec\": 16.9, \"vs\": 1.0, \"am\": 1, \"gear\": 999, \"carb\": 2}, {\"car\": \"Ford Pantera L\", \"mpg\": 15.8, \"cyl\": 8, \"disp\": 351.0, \"hp\": 118.2, \"drat\": 4.22, \"wt\": null, \"qsec\": 14.5, \"vs\": 0.0, \"am\": 1, \"gear\": 5, \"carb\": 4}, {\"car\": \"Ferrari Dino\", \"mpg\": 19.7, \"cyl\": 6, \"disp\": 145.0, \"hp\": 175.0, \"drat\": 3.62, \"wt\": 2.77, \"qsec\": 15.5, \"vs\": null, \"am\": 1, \"gear\": 5, \"carb\": 6}, {\"car\": \"Maserati Bora\", \"mpg\": 15.0, \"cyl\": 8, \"disp\": 301.0, \"hp\": 118.2, \"drat\": 3.54, \"wt\": null, \"qsec\": 14.6, \"vs\": null, \"am\": 1, \"gear\": 5, \"carb\": 8}, {\"car\": \"Volvo 142E\", \"mpg\": 21.4, \"cyl\": 4, \"disp\": 121.0, \"hp\": 109.0, \"drat\": 4.11, \"wt\": 2.78, \"qsec\": 18.6, \"vs\": 1.0, \"am\": 1, \"gear\": 999, \"carb\": 2}]}}, {\"mode\": \"vega-lite\"});\n",
              "</script>"
            ],
            "text/plain": [
              "alt.Chart(...)"
            ]
          },
          "metadata": {},
          "output_type": "display_data"
        }
      ],
      "source": [
        "car_chart = (alt.Chart(df3,\n",
        "    title = \"This is awesome.\")\n",
        "    .encode(\n",
        "    alt.X('hp'), \n",
        "    alt.Y('mpg'),\n",
        "    )\n",
        "    .mark_point()).configure_mark(\n",
        "    opacity=0.5,\n",
        "    color='red'\n",
        "    )\n",
        "\n",
        "    \n",
        "display(car_chart)"
      ]
    },
    {
      "cell_type": "code",
      "execution_count": 102,
      "id": "451e137c",
      "metadata": {},
      "outputs": [
        {
          "ename": "ValueError",
          "evalue": "Objects with \"config\" attribute cannot be used within LayerChart. Consider defining the config attribute in the LayerChart object instead.",
          "output_type": "error",
          "traceback": [
            "\u001b[1;31m---------------------------------------------------------------------------\u001b[0m",
            "\u001b[1;31mValueError\u001b[0m                                Traceback (most recent call last)",
            "Cell \u001b[1;32mIn [102], line 3\u001b[0m\n\u001b[0;32m      1\u001b[0m line \u001b[39m=\u001b[39m alt\u001b[39m.\u001b[39mChart(pd\u001b[39m.\u001b[39mDataFrame({\u001b[39m'\u001b[39m\u001b[39mx\u001b[39m\u001b[39m'\u001b[39m: [\u001b[39m80\u001b[39m]}))\u001b[39m.\u001b[39mmark_rule()\u001b[39m.\u001b[39mencode(x\u001b[39m=\u001b[39m\u001b[39m'\u001b[39m\u001b[39mx\u001b[39m\u001b[39m'\u001b[39m)\n\u001b[1;32m----> 3\u001b[0m car_chart\u001b[39m+\u001b[39;49mline\n",
            "File \u001b[1;32mc:\\Program Files\\Python310\\lib\\site-packages\\altair\\vegalite\\v4\\api.py:502\u001b[0m, in \u001b[0;36mTopLevelMixin.__add__\u001b[1;34m(self, other)\u001b[0m\n\u001b[0;32m    500\u001b[0m \u001b[39mif\u001b[39;00m \u001b[39mnot\u001b[39;00m \u001b[39misinstance\u001b[39m(other, TopLevelMixin):\n\u001b[0;32m    501\u001b[0m     \u001b[39mraise\u001b[39;00m \u001b[39mValueError\u001b[39;00m(\u001b[39m\"\u001b[39m\u001b[39mOnly Chart objects can be layered.\u001b[39m\u001b[39m\"\u001b[39m)\n\u001b[1;32m--> 502\u001b[0m \u001b[39mreturn\u001b[39;00m layer(\u001b[39mself\u001b[39;49m, other)\n",
            "File \u001b[1;32mc:\\Program Files\\Python310\\lib\\site-packages\\altair\\vegalite\\v4\\api.py:2406\u001b[0m, in \u001b[0;36mlayer\u001b[1;34m(*charts, **kwargs)\u001b[0m\n\u001b[0;32m   2404\u001b[0m \u001b[39mdef\u001b[39;00m \u001b[39mlayer\u001b[39m(\u001b[39m*\u001b[39mcharts, \u001b[39m*\u001b[39m\u001b[39m*\u001b[39mkwargs):\n\u001b[0;32m   2405\u001b[0m     \u001b[39m\"\"\"layer multiple charts\"\"\"\u001b[39;00m\n\u001b[1;32m-> 2406\u001b[0m     \u001b[39mreturn\u001b[39;00m LayerChart(layer\u001b[39m=\u001b[39mcharts, \u001b[39m*\u001b[39m\u001b[39m*\u001b[39mkwargs)\n",
            "File \u001b[1;32mc:\\Program Files\\Python310\\lib\\site-packages\\altair\\vegalite\\v4\\api.py:2343\u001b[0m, in \u001b[0;36mLayerChart.__init__\u001b[1;34m(self, data, layer, **kwargs)\u001b[0m\n\u001b[0;32m   2339\u001b[0m \u001b[39mdef\u001b[39;00m \u001b[39m__init__\u001b[39m(\u001b[39mself\u001b[39m, data\u001b[39m=\u001b[39mUndefined, layer\u001b[39m=\u001b[39m(), \u001b[39m*\u001b[39m\u001b[39m*\u001b[39mkwargs):\n\u001b[0;32m   2340\u001b[0m     \u001b[39m# TODO: move common data to top level?\u001b[39;00m\n\u001b[0;32m   2341\u001b[0m     \u001b[39m# TODO: check for conflicting interaction\u001b[39;00m\n\u001b[0;32m   2342\u001b[0m     \u001b[39mfor\u001b[39;00m spec \u001b[39min\u001b[39;00m layer:\n\u001b[1;32m-> 2343\u001b[0m         _check_if_valid_subspec(spec, \u001b[39m\"\u001b[39;49m\u001b[39mLayerChart\u001b[39;49m\u001b[39m\"\u001b[39;49m)\n\u001b[0;32m   2344\u001b[0m         _check_if_can_be_layered(spec)\n\u001b[0;32m   2345\u001b[0m     \u001b[39msuper\u001b[39m(LayerChart, \u001b[39mself\u001b[39m)\u001b[39m.\u001b[39m\u001b[39m__init__\u001b[39m(data\u001b[39m=\u001b[39mdata, layer\u001b[39m=\u001b[39m\u001b[39mlist\u001b[39m(layer), \u001b[39m*\u001b[39m\u001b[39m*\u001b[39mkwargs)\n",
            "File \u001b[1;32mc:\\Program Files\\Python310\\lib\\site-packages\\altair\\vegalite\\v4\\api.py:2081\u001b[0m, in \u001b[0;36m_check_if_valid_subspec\u001b[1;34m(spec, classname)\u001b[0m\n\u001b[0;32m   2079\u001b[0m     val \u001b[39m=\u001b[39m spec\u001b[39m.\u001b[39mget(attr, Undefined)\n\u001b[0;32m   2080\u001b[0m \u001b[39mif\u001b[39;00m val \u001b[39mis\u001b[39;00m \u001b[39mnot\u001b[39;00m Undefined:\n\u001b[1;32m-> 2081\u001b[0m     \u001b[39mraise\u001b[39;00m \u001b[39mValueError\u001b[39;00m(err\u001b[39m.\u001b[39mformat(attr, classname))\n",
            "\u001b[1;31mValueError\u001b[0m: Objects with \"config\" attribute cannot be used within LayerChart. Consider defining the config attribute in the LayerChart object instead."
          ]
        }
      ],
      "source": []
    },
    {
      "cell_type": "markdown",
      "id": "d7aecc47",
      "metadata": {},
      "source": [
        "​\n",
        "<br>\n",
        "​\n",
        "**Question 2:** Try writing code to recreate the following table.\n",
        "​\n",
        "- Have `cyl` on the rows and `carb` on the columns\n",
        "- The values inside the table represent the number of cars with that particular `cyl`/`carb` combination.\n",
        "- The `pd.crosstab()` function could be helpful, or maybe `pd.pivot_table()`.\n",
        "​\n",
        "​\n",
        "|   cyl |   1 |   2 |   3 |   4 |   6 |   8 |\n",
        "|------:|----:|----:|----:|----:|----:|----:|\n",
        "|     4 |   5 |   6 |   0 |   0 |   0 |   0 |\n",
        "|     6 |   2 |   0 |   0 |   4 |   1 |   0 |\n",
        "|     8 |   0 |   4 |   3 |   6 |   0 |   1 |\n",
        "​\n",
        "**Question 2 Answer:**\n",
        "​\n",
        "_Show your table here._\n",
        "​\n",
        "**Question 2 Code:**\n",
        "​"
      ]
    },
    {
      "cell_type": "code",
      "execution_count": 96,
      "id": "ad523335",
      "metadata": {},
      "outputs": [
        {
          "data": {
            "text/html": [
              "<div>\n",
              "<style scoped>\n",
              "    .dataframe tbody tr th:only-of-type {\n",
              "        vertical-align: middle;\n",
              "    }\n",
              "\n",
              "    .dataframe tbody tr th {\n",
              "        vertical-align: top;\n",
              "    }\n",
              "\n",
              "    .dataframe thead th {\n",
              "        text-align: right;\n",
              "    }\n",
              "</style>\n",
              "<table border=\"1\" class=\"dataframe\">\n",
              "  <thead>\n",
              "    <tr style=\"text-align: right;\">\n",
              "      <th>carb</th>\n",
              "      <th>1</th>\n",
              "      <th>2</th>\n",
              "      <th>3</th>\n",
              "      <th>4</th>\n",
              "      <th>6</th>\n",
              "      <th>8</th>\n",
              "    </tr>\n",
              "    <tr>\n",
              "      <th>cyl</th>\n",
              "      <th></th>\n",
              "      <th></th>\n",
              "      <th></th>\n",
              "      <th></th>\n",
              "      <th></th>\n",
              "      <th></th>\n",
              "    </tr>\n",
              "  </thead>\n",
              "  <tbody>\n",
              "    <tr>\n",
              "      <th>4</th>\n",
              "      <td>5</td>\n",
              "      <td>4</td>\n",
              "      <td>0</td>\n",
              "      <td>0</td>\n",
              "      <td>0</td>\n",
              "      <td>0</td>\n",
              "    </tr>\n",
              "    <tr>\n",
              "      <th>6</th>\n",
              "      <td>2</td>\n",
              "      <td>0</td>\n",
              "      <td>0</td>\n",
              "      <td>4</td>\n",
              "      <td>1</td>\n",
              "      <td>0</td>\n",
              "    </tr>\n",
              "    <tr>\n",
              "      <th>8</th>\n",
              "      <td>0</td>\n",
              "      <td>3</td>\n",
              "      <td>3</td>\n",
              "      <td>5</td>\n",
              "      <td>0</td>\n",
              "      <td>1</td>\n",
              "    </tr>\n",
              "  </tbody>\n",
              "</table>\n",
              "</div>"
            ],
            "text/plain": [
              "carb  1  2  3  4  6  8\n",
              "cyl                   \n",
              "4     5  4  0  0  0  0\n",
              "6     2  0  0  4  1  0\n",
              "8     0  3  3  5  0  1"
            ]
          },
          "execution_count": 96,
          "metadata": {},
          "output_type": "execute_result"
        }
      ],
      "source": [
        "newt = pd.crosstab(df3.cyl, df3.carb)\n",
        "\n",
        "newt\n"
      ]
    },
    {
      "cell_type": "markdown",
      "id": "b6cf5cae",
      "metadata": {},
      "source": [
        "​\n",
        "<br>\n",
        "​\n",
        "**Additional Questions:** On the Final Coding Challenge, I will also ask you to fit a Machine Learning Model. There may be 1-2 additional questions."
      ]
    }
  ],
  "metadata": {
    "kernelspec": {
      "display_name": "Python 3.10.8 64-bit",
      "language": "python",
      "name": "python3"
    },
    "language_info": {
      "codemirror_mode": {
        "name": "ipython",
        "version": 3
      },
      "file_extension": ".py",
      "mimetype": "text/x-python",
      "name": "python",
      "nbconvert_exporter": "python",
      "pygments_lexer": "ipython3",
      "version": "3.10.8"
    },
    "vscode": {
      "interpreter": {
        "hash": "26de051ba29f2982a8de78e945f0abaf191376122a1563185a90213a26c5da77"
      }
    }
  },
  "nbformat": 4,
  "nbformat_minor": 5
}
